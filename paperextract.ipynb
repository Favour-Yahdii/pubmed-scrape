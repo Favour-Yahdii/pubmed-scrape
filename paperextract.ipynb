{
 "cells": [
  {
   "cell_type": "code",
   "execution_count": 5,
   "metadata": {},
   "outputs": [],
   "source": [
    "import PyPaperBot as pb"
   ]
  },
  {
   "cell_type": "code",
   "execution_count": null,
   "metadata": {},
   "outputs": [
    {
     "name": "stderr",
     "output_type": "stream",
     "text": [
      "c:\\Users\\Yahdii\\.conda\\envs\\phdscraping\\python.exe: No module named pypaperbot\n"
     ]
    }
   ],
   "source": [
    "python -m PyPaperBot --doi-file=\"citation_ckd.txt\" --dwn-dir=\"C:\\Users\\Yahdii\\OneDrive\\Desktop\\pubmed-scrape\\citation_ckd_papers_full\""
   ]
  }
 ],
 "metadata": {
  "kernelspec": {
   "display_name": "phdscraping",
   "language": "python",
   "name": "python3"
  },
  "language_info": {
   "codemirror_mode": {
    "name": "ipython",
    "version": 3
   },
   "file_extension": ".py",
   "mimetype": "text/x-python",
   "name": "python",
   "nbconvert_exporter": "python",
   "pygments_lexer": "ipython3",
   "version": "3.13.0"
  }
 },
 "nbformat": 4,
 "nbformat_minor": 2
}
