{
 "cells": [
  {
   "cell_type": "code",
   "execution_count": 1,
   "metadata": {},
   "outputs": [],
   "source": [
    "from doi_extracter import DoiExtract"
   ]
  },
  {
   "cell_type": "code",
   "execution_count": 3,
   "metadata": {},
   "outputs": [
    {
     "name": "stdout",
     "output_type": "stream",
     "text": [
      "File already exists\n"
     ]
    }
   ],
   "source": [
    "ckd = DoiExtract('citation_ckd.csv')\n",
    "ckd.extract_to_txt()"
   ]
  },
  {
   "cell_type": "code",
   "execution_count": 2,
   "metadata": {},
   "outputs": [
    {
     "name": "stdout",
     "output_type": "stream",
     "text": [
      "File created\n"
     ]
    }
   ],
   "source": [
    "dementia = DoiExtract('citation_dementia.csv')\n",
    "dementia.extract_to_txt()"
   ]
  },
  {
   "cell_type": "code",
   "execution_count": 4,
   "metadata": {},
   "outputs": [
    {
     "name": "stdout",
     "output_type": "stream",
     "text": [
      "File created\n"
     ]
    }
   ],
   "source": [
    "nutri_stroke = DoiExtract('citation_nutri_stroke.csv')\n",
    "nutri_stroke.extract_to_txt()"
   ]
  },
  {
   "cell_type": "code",
   "execution_count": 6,
   "metadata": {},
   "outputs": [
    {
     "name": "stdout",
     "output_type": "stream",
     "text": [
      "File created\n"
     ]
    }
   ],
   "source": [
    "comm_level = DoiExtract('citation_comm level interactions.csv')\n",
    "comm_level.extract_to_txt()"
   ]
  },
  {
   "cell_type": "code",
   "execution_count": 5,
   "metadata": {},
   "outputs": [
    {
     "name": "stdout",
     "output_type": "stream",
     "text": [
      "File created\n"
     ]
    }
   ],
   "source": [
    "vit_d = DoiExtract('citation_vitd_fracture.csv')\n",
    "vit_d.extract_to_txt()"
   ]
  }
 ],
 "metadata": {
  "kernelspec": {
   "display_name": "phdscraping",
   "language": "python",
   "name": "python3"
  },
  "language_info": {
   "codemirror_mode": {
    "name": "ipython",
    "version": 3
   },
   "file_extension": ".py",
   "mimetype": "text/x-python",
   "name": "python",
   "nbconvert_exporter": "python",
   "pygments_lexer": "ipython3",
   "version": "3.13.0"
  }
 },
 "nbformat": 4,
 "nbformat_minor": 2
}
