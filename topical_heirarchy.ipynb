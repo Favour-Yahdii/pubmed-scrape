{
 "cells": [
  {
   "cell_type": "code",
   "execution_count": null,
   "metadata": {},
   "outputs": [],
   "source": [
    "# aim - create heirarchical relationships between included papers and the systematic review\n",
    "# plan of action - each abstract gets its own embedding\n",
    "# the abstract of the systematic review gets its own embedding\n",
    "# then a knowledge graph is created with the systematic review as the root node"
   ]
  }
 ],
 "metadata": {
  "kernelspec": {
   "display_name": "phdscraping",
   "language": "python",
   "name": "python3"
  },
  "language_info": {
   "name": "python",
   "version": "3.13.0"
  }
 },
 "nbformat": 4,
 "nbformat_minor": 2
}
